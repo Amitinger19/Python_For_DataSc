{
  "nbformat": 4,
  "nbformat_minor": 0,
  "metadata": {
    "colab": {
      "name": "Var_n_Operations.ipynb",
      "provenance": []
    },
    "kernelspec": {
      "name": "python3",
      "display_name": "Python 3"
    }
  },
  "cells": [
    {
      "cell_type": "markdown",
      "metadata": {
        "id": "F0eLv8W-fh4I",
        "colab_type": "text"
      },
      "source": [
        "# Fundamental types\n",
        "Python is a interpreted and compiled language. Most language is either interpreted or compiled .\n",
        "\n",
        "\n",
        "Integers"
      ]
    },
    {
      "cell_type": "code",
      "metadata": {
        "id": "ynKvNGtIfqkR",
        "colab_type": "code",
        "outputId": "bbf91a82-29ef-46c2-9a22-1f8535c69567",
        "colab": {
          "base_uri": "https://localhost:8080/",
          "height": 34
        }
      },
      "source": [
        "i=10.00 ## NO need to declare type of variale we are using, python understands that by itself.\n",
        "i    ## Jupyter is kind of a client software which sends the code to python compiler and return the output in the console"
      ],
      "execution_count": 0,
      "outputs": [
        {
          "output_type": "execute_result",
          "data": {
            "text/plain": [
              "10.0"
            ]
          },
          "metadata": {
            "tags": []
          },
          "execution_count": 5
        }
      ]
    },
    {
      "cell_type": "code",
      "metadata": {
        "id": "FeNAoYfJgIvs",
        "colab_type": "code",
        "outputId": "a41a0fbf-da00-48fd-a138-69abeec75011",
        "colab": {
          "base_uri": "https://localhost:8080/",
          "height": 34
        }
      },
      "source": [
        "## Checking type of data or variable\n",
        "\n",
        "type(i) #float"
      ],
      "execution_count": 0,
      "outputs": [
        {
          "output_type": "execute_result",
          "data": {
            "text/plain": [
              "float"
            ]
          },
          "metadata": {
            "tags": []
          },
          "execution_count": 7
        }
      ]
    },
    {
      "cell_type": "code",
      "metadata": {
        "id": "Svq55LYrg5Ui",
        "colab_type": "code",
        "outputId": "9b5917f0-fde4-4dd5-9eef-ee253cd30216",
        "colab": {
          "base_uri": "https://localhost:8080/",
          "height": 34
        }
      },
      "source": [
        "i='string'\n",
        "type(i)  #Strin"
      ],
      "execution_count": 0,
      "outputs": [
        {
          "output_type": "execute_result",
          "data": {
            "text/plain": [
              "'string'"
            ]
          },
          "metadata": {
            "tags": []
          },
          "execution_count": 16
        }
      ]
    },
    {
      "cell_type": "code",
      "metadata": {
        "id": "cQGiETDahDwB",
        "colab_type": "code",
        "outputId": "b57735ea-cf79-495d-e340-9c042f1de3bc",
        "colab": {
          "base_uri": "https://localhost:8080/",
          "height": 34
        }
      },
      "source": [
        "i=7j+5\n",
        "i\n",
        "#type(i)  #Complex"
      ],
      "execution_count": 0,
      "outputs": [
        {
          "output_type": "execute_result",
          "data": {
            "text/plain": [
              "(5+7j)"
            ]
          },
          "metadata": {
            "tags": []
          },
          "execution_count": 17
        }
      ]
    },
    {
      "cell_type": "code",
      "metadata": {
        "id": "Gr_9YPHLhUEN",
        "colab_type": "code",
        "outputId": "7ede8186-6e95-4e4a-96a2-42c2b5fc6e28",
        "colab": {
          "base_uri": "https://localhost:8080/",
          "height": 34
        }
      },
      "source": [
        "i.imag ## Yeah, thats right!! IN python 3.x some function workd with or without bracket"
      ],
      "execution_count": 0,
      "outputs": [
        {
          "output_type": "execute_result",
          "data": {
            "text/plain": [
              "7.0"
            ]
          },
          "metadata": {
            "tags": []
          },
          "execution_count": 20
        }
      ]
    },
    {
      "cell_type": "code",
      "metadata": {
        "id": "k2Um8hR0if7U",
        "colab_type": "code",
        "outputId": "1a11177a-8f25-44fd-c065-37899ce7d0e9",
        "colab": {
          "base_uri": "https://localhost:8080/",
          "height": 34
        }
      },
      "source": [
        "## Knowing the address of the variable\n",
        "\n",
        "id(i) ## returns the location of the variable"
      ],
      "execution_count": 0,
      "outputs": [
        {
          "output_type": "execute_result",
          "data": {
            "text/plain": [
              "140679816233040"
            ]
          },
          "metadata": {
            "tags": []
          },
          "execution_count": 22
        }
      ]
    },
    {
      "cell_type": "code",
      "metadata": {
        "id": "2XriHchFi7hZ",
        "colab_type": "code",
        "outputId": "7ade6d40-da2d-4c1e-9c23-ea6f15710378",
        "colab": {
          "base_uri": "https://localhost:8080/",
          "height": 34
        }
      },
      "source": [
        "i=True  ## Boolean\n",
        "type(i)\n",
        "True+True  # This gives output as 2 because python compiler considers True as 1 and false as 0."
      ],
      "execution_count": 0,
      "outputs": [
        {
          "output_type": "execute_result",
          "data": {
            "text/plain": [
              "2"
            ]
          },
          "metadata": {
            "tags": []
          },
          "execution_count": 25
        }
      ]
    },
    {
      "cell_type": "code",
      "metadata": {
        "id": "zTgeI40Qjaps",
        "colab_type": "code",
        "outputId": "ebc89606-8319-4795-f99d-02c7da481f43",
        "colab": {
          "base_uri": "https://localhost:8080/",
          "height": 34
        }
      },
      "source": [
        "# How to print some string containing a single or double qoute in it..\n",
        "# e.g, I'm Amit\n",
        "# If it contains  single qoute, please use doubl qoute to print and vice-vesa\n",
        "\n",
        "#print('I'm Amit') # This gives error\n",
        "print(\"I'm Amit\") # This will work"
      ],
      "execution_count": 0,
      "outputs": [
        {
          "output_type": "stream",
          "text": [
            "I'm Amit\n"
          ],
          "name": "stdout"
        }
      ]
    },
    {
      "cell_type": "code",
      "metadata": {
        "id": "kjTov69Ckdyo",
        "colab_type": "code",
        "outputId": "cbfc5727-0226-4127-9227-25e00513aec0",
        "colab": {
          "base_uri": "https://localhost:8080/",
          "height": 178
        }
      },
      "source": [
        "##Conversion of string into integer\n",
        "int('5') ##This is possible\n",
        "int('s') ##This is not possible"
      ],
      "execution_count": 0,
      "outputs": [
        {
          "output_type": "error",
          "ename": "ValueError",
          "evalue": "ignored",
          "traceback": [
            "\u001b[0;31m---------------------------------------------------------------------------\u001b[0m",
            "\u001b[0;31mValueError\u001b[0m                                Traceback (most recent call last)",
            "\u001b[0;32m<ipython-input-28-747c8d6958a4>\u001b[0m in \u001b[0;36m<module>\u001b[0;34m()\u001b[0m\n\u001b[1;32m      1\u001b[0m \u001b[0mint\u001b[0m\u001b[0;34m(\u001b[0m\u001b[0;34m'5'\u001b[0m\u001b[0;34m)\u001b[0m \u001b[0;31m##This is possible\u001b[0m\u001b[0;34m\u001b[0m\u001b[0;34m\u001b[0m\u001b[0m\n\u001b[0;32m----> 2\u001b[0;31m \u001b[0mint\u001b[0m\u001b[0;34m(\u001b[0m\u001b[0;34m's'\u001b[0m\u001b[0;34m)\u001b[0m \u001b[0;31m##This is not possible\u001b[0m\u001b[0;34m\u001b[0m\u001b[0;34m\u001b[0m\u001b[0m\n\u001b[0m",
            "\u001b[0;31mValueError\u001b[0m: invalid literal for int() with base 10: 's'"
          ]
        }
      ]
    },
    {
      "cell_type": "markdown",
      "metadata": {
        "id": "1GYEeNoplwzE",
        "colab_type": "text"
      },
      "source": [
        "\n",
        "Complex Numbers"
      ]
    },
    {
      "cell_type": "code",
      "metadata": {
        "id": "MbUNfQs3lzb4",
        "colab_type": "code",
        "outputId": "f18dbc50-2d26-4ba7-8e8b-4189c18ff5eb",
        "colab": {
          "base_uri": "https://localhost:8080/",
          "height": 34
        }
      },
      "source": [
        "x=1.0-2.0j\n",
        "type(x)"
      ],
      "execution_count": 0,
      "outputs": [
        {
          "output_type": "execute_result",
          "data": {
            "text/plain": [
              "complex"
            ]
          },
          "metadata": {
            "tags": []
          },
          "execution_count": 31
        }
      ]
    },
    {
      "cell_type": "markdown",
      "metadata": {
        "id": "aPw3QcXgo2RO",
        "colab_type": "text"
      },
      "source": [
        "# Branching (if/elif/else)"
      ]
    },
    {
      "cell_type": "code",
      "metadata": {
        "id": "FrYQglG5o922",
        "colab_type": "code",
        "outputId": "c83eecb0-a5ca-408b-b89c-a76a5aac6927",
        "colab": {
          "base_uri": "https://localhost:8080/",
          "height": 34
        }
      },
      "source": [
        "x=2\n",
        "if(x==2):\n",
        "  print('This is correct')\n",
        "elif(x<2):\n",
        "  print('This is not expected')\n",
        "else:\n",
        "  print('This is out of range')   "
      ],
      "execution_count": 0,
      "outputs": [
        {
          "output_type": "stream",
          "text": [
            "This is correct\n"
          ],
          "name": "stdout"
        }
      ]
    },
    {
      "cell_type": "code",
      "metadata": {
        "id": "Yzt50FIopvIl",
        "colab_type": "code",
        "colab": {}
      },
      "source": [
        "##Keyword: pass\n",
        "\n",
        "i=8\n",
        "if(i<8):\n",
        "  pass     ## I used pass here because I have some requirement where I dont want to do anything if i<8"
      ],
      "execution_count": 0,
      "outputs": []
    },
    {
      "cell_type": "code",
      "metadata": {
        "id": "2YWUkIepqDqI",
        "colab_type": "code",
        "colab": {}
      },
      "source": [
        "## Difference between function and keyword?\n",
        "# function: it is something which requires an argument to serve its purpose.\n",
        "# keyword: It does not require any argument.."
      ],
      "execution_count": 0,
      "outputs": []
    },
    {
      "cell_type": "code",
      "metadata": {
        "id": "WFrSQqX7sy58",
        "colab_type": "code",
        "outputId": "f1c8b813-c405-4e6c-fd6f-79734be18a36",
        "colab": {
          "base_uri": "https://localhost:8080/",
          "height": 34
        }
      },
      "source": [
        "i=7\n",
        "id(i) # =10914688\n",
        "i=8\n",
        "id(i) # =10914720\n",
        "# for assigning any variable multiple times, every time it will assign different locations\n",
        "# and the previous memory  location will be discarded."
      ],
      "execution_count": 0,
      "outputs": [
        {
          "output_type": "execute_result",
          "data": {
            "text/plain": [
              "10914720"
            ]
          },
          "metadata": {
            "tags": []
          },
          "execution_count": 39
        }
      ]
    },
    {
      "cell_type": "code",
      "metadata": {
        "id": "tZsUBlbFt69H",
        "colab_type": "code",
        "outputId": "bef0a6c5-6348-483f-e935-a884d86e27ef",
        "colab": {
          "base_uri": "https://localhost:8080/",
          "height": 34
        }
      },
      "source": [
        "# Always mind the identation.\n",
        "\n",
        "a='Amit'\n",
        "if True:\n",
        "  if a=='jkgkfk':\n",
        "    print(4)\n",
        "  else:\n",
        "    print(5)\n",
        "else:\n",
        "  print(0)      "
      ],
      "execution_count": 0,
      "outputs": [
        {
          "output_type": "stream",
          "text": [
            "5\n"
          ],
          "name": "stdout"
        }
      ]
    },
    {
      "cell_type": "code",
      "metadata": {
        "id": "vw0ssKdUuWHD",
        "colab_type": "code",
        "outputId": "331509a4-5237-4bab-86ed-c25adf925572",
        "colab": {
          "base_uri": "https://localhost:8080/",
          "height": 34
        }
      },
      "source": [
        "# Checking multiple conditions\n",
        "\n",
        "c=2\n",
        "if c<1 or c>3: # it can be any operator, or, and etc.\n",
        "  print(1)\n",
        "elif c>5:\n",
        "  print(5)\n",
        "else:\n",
        "  print('Default block')    "
      ],
      "execution_count": 0,
      "outputs": [
        {
          "output_type": "stream",
          "text": [
            "Default block\n"
          ],
          "name": "stdout"
        }
      ]
    },
    {
      "cell_type": "code",
      "metadata": {
        "id": "xVcvMWupvdyf",
        "colab_type": "code",
        "colab": {}
      },
      "source": [
        ""
      ],
      "execution_count": 0,
      "outputs": []
    },
    {
      "cell_type": "markdown",
      "metadata": {
        "id": "CVtwRzNryAKA",
        "colab_type": "text"
      },
      "source": [
        "# Lists\n",
        "\n",
        "We are able to store  multi data with multiple data types."
      ]
    },
    {
      "cell_type": "code",
      "metadata": {
        "colab_type": "code",
        "outputId": "18976c62-760e-434f-8a49-0348030532ea",
        "id": "CANvbx_Rzydr",
        "colab": {
          "base_uri": "https://localhost:8080/",
          "height": 34
        }
      },
      "source": [
        "\n",
        "li=['1',3+2j,'Amit',2.0]\n",
        "type(li)\n",
        "\n",
        "\n",
        "li1=list(('1','Amit',23.0,45)) # Here I am converting a tuple into list.\n",
        "type(li1)\n",
        "\n",
        "\n"
      ],
      "execution_count": 57,
      "outputs": [
        {
          "output_type": "execute_result",
          "data": {
            "text/plain": [
              "list"
            ]
          },
          "metadata": {
            "tags": []
          },
          "execution_count": 57
        }
      ]
    },
    {
      "cell_type": "code",
      "metadata": {
        "id": "gaVlcL4K01AC",
        "colab_type": "code",
        "colab": {}
      },
      "source": [
        ""
      ],
      "execution_count": 0,
      "outputs": []
    },
    {
      "cell_type": "markdown",
      "metadata": {
        "id": "kdZk5wmK05u3",
        "colab_type": "text"
      },
      "source": [
        "\n",
        "Indexing and slicing in Lists"
      ]
    },
    {
      "cell_type": "code",
      "metadata": {
        "id": "kGwCU_3V08UH",
        "colab_type": "code",
        "colab": {
          "base_uri": "https://localhost:8080/",
          "height": 34
        },
        "outputId": "eec6d52f-fead-4f77-a6c8-261bdd1566fb"
      },
      "source": [
        "#indexing is done in list by square[] brackets\n",
        "\n",
        "li[1] # 3+2j\n",
        "li[1:4] # [(3+2j), 'Amit', 2.0] does not include 4th element\n",
        "li[1:4:2] # [(3+2j), 2.0] go from 1 to 4 with a jump of 2 excluding [4]\n",
        "li[::] # ['1', (3+2j), 'Amit', 2.0] , :: means all from start to end\n",
        "li[:2] # ['1', (3+2j)] all from start to element 2nd\n",
        "li[4:1:-1] # [2.0, 'Amit'] starts from 4th element and go to the element before 2nd element in reverse direction\n",
        "li[::-1] # [2.0, 'Amit', (3+2j), '1'], printing list in reverse direction\n"
      ],
      "execution_count": 65,
      "outputs": [
        {
          "output_type": "execute_result",
          "data": {
            "text/plain": [
              "[2.0, 'Amit', (3+2j), '1']"
            ]
          },
          "metadata": {
            "tags": []
          },
          "execution_count": 65
        }
      ]
    },
    {
      "cell_type": "markdown",
      "metadata": {
        "id": "Xnc7L91v3NF-",
        "colab_type": "text"
      },
      "source": [
        "\n",
        "Mutability in Lists\n",
        "\n",
        "LIsts are mutable so elements can be changed easily by accessing that element.\n",
        "\n",
        "but if the element is a string so whole string element can be removed but not the element inside the string."
      ]
    },
    {
      "cell_type": "code",
      "metadata": {
        "id": "TMbojJ1Z3Rbh",
        "colab_type": "code",
        "colab": {
          "base_uri": "https://localhost:8080/",
          "height": 195
        },
        "outputId": "d9f6fec5-3839-4f83-93db-5fa67df6a730"
      },
      "source": [
        "li[1]=3\n",
        "li[2][0] # this gives output as 'A'\n",
        "li[2][0]='S' ## This will give error since string is not a mutable data type."
      ],
      "execution_count": 69,
      "outputs": [
        {
          "output_type": "error",
          "ename": "TypeError",
          "evalue": "ignored",
          "traceback": [
            "\u001b[0;31m---------------------------------------------------------------------------\u001b[0m",
            "\u001b[0;31mTypeError\u001b[0m                                 Traceback (most recent call last)",
            "\u001b[0;32m<ipython-input-69-1236aaa8292d>\u001b[0m in \u001b[0;36m<module>\u001b[0;34m()\u001b[0m\n\u001b[1;32m      1\u001b[0m \u001b[0mli\u001b[0m\u001b[0;34m[\u001b[0m\u001b[0;36m1\u001b[0m\u001b[0;34m]\u001b[0m\u001b[0;34m=\u001b[0m\u001b[0;36m3\u001b[0m\u001b[0;34m\u001b[0m\u001b[0;34m\u001b[0m\u001b[0m\n\u001b[1;32m      2\u001b[0m \u001b[0mli\u001b[0m\u001b[0;34m[\u001b[0m\u001b[0;36m2\u001b[0m\u001b[0;34m]\u001b[0m\u001b[0;34m[\u001b[0m\u001b[0;36m0\u001b[0m\u001b[0;34m]\u001b[0m \u001b[0;31m# this gives output as 'A'\u001b[0m\u001b[0;34m\u001b[0m\u001b[0;34m\u001b[0m\u001b[0m\n\u001b[0;32m----> 3\u001b[0;31m \u001b[0mli\u001b[0m\u001b[0;34m[\u001b[0m\u001b[0;36m2\u001b[0m\u001b[0;34m]\u001b[0m\u001b[0;34m[\u001b[0m\u001b[0;36m0\u001b[0m\u001b[0;34m]\u001b[0m\u001b[0;34m=\u001b[0m\u001b[0;34m'S'\u001b[0m \u001b[0;31m## This will give error since string is not a mutable data type.\u001b[0m\u001b[0;34m\u001b[0m\u001b[0;34m\u001b[0m\u001b[0m\n\u001b[0m",
            "\u001b[0;31mTypeError\u001b[0m: 'str' object does not support item assignment"
          ]
        }
      ]
    },
    {
      "cell_type": "code",
      "metadata": {
        "id": "CJ4hStwL4Qyq",
        "colab_type": "code",
        "colab": {
          "base_uri": "https://localhost:8080/",
          "height": 34
        },
        "outputId": "ec07005a-ba91-4483-837d-679f6332abff"
      },
      "source": [
        ""
      ],
      "execution_count": 72,
      "outputs": [
        {
          "output_type": "execute_result",
          "data": {
            "text/plain": [
              "2.0"
            ]
          },
          "metadata": {
            "tags": []
          },
          "execution_count": 72
        }
      ]
    }
  ]
}